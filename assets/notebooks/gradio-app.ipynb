{
 "cells": [
  {
   "cell_type": "code",
   "execution_count": 1,
   "id": "7601793e-7d8d-4089-bdab-c1e2e342df6d",
   "metadata": {},
   "outputs": [],
   "source": [
    "#|default_exp app"
   ]
  },
  {
   "cell_type": "code",
   "execution_count": 2,
   "id": "f2b1ec2a",
   "metadata": {},
   "outputs": [],
   "source": [
    "#|export\n",
    "import gradio as gr\n",
    "from fastai.vision.all import *\n",
    "import platform, pathlib # Specifically for handling Unix vs Windows"
   ]
  },
  {
   "cell_type": "code",
   "execution_count": 3,
   "id": "8345344e",
   "metadata": {},
   "outputs": [
    {
     "name": "stderr",
     "output_type": "stream",
     "text": [
      "d:\\Users\\mores\\miniconda3\\envs\\spaces\\Lib\\site-packages\\fastai\\learner.py:455: UserWarning: load_learner` uses Python's insecure pickle module, which can execute malicious arbitrary code when loading. Only load files you trust.\n",
      "If you only need to load model weights and optimizer state, use the safe `Learner.load` instead.\n",
      "  warn(\"load_learner` uses Python's insecure pickle module, which can execute malicious arbitrary code when loading. Only load files you trust.\\nIf you only need to load model weights and optimizer state, use the safe `Learner.load` instead.\")\n"
     ]
    }
   ],
   "source": [
    "#|export\n",
    "# Monkey patch PosixPath to WindowsPath if on Windows\n",
    "if platform.system() == 'Windows':\n",
    "    pathlib.PosixPath = pathlib.WindowsPath\n",
    "# doc(load_learner)\n",
    "learn_inf = load_learner(\"2025-06-13-res18x25p-v7.pkl\", cpu=True)"
   ]
  },
  {
   "cell_type": "code",
   "execution_count": 4,
   "id": "eca324d1",
   "metadata": {},
   "outputs": [
    {
     "data": {
      "text/html": [
       "\n",
       "<style>\n",
       "    /* Turns off some styling */\n",
       "    progress {\n",
       "        /* gets rid of default border in Firefox and Opera. */\n",
       "        border: none;\n",
       "        /* Needs to be in here for Safari polyfill so background images work as expected. */\n",
       "        background-size: auto;\n",
       "    }\n",
       "    progress:not([value]), progress:not([value])::-webkit-progress-bar {\n",
       "        background: repeating-linear-gradient(45deg, #7e7e7e, #7e7e7e 10px, #5c5c5c 10px, #5c5c5c 20px);\n",
       "    }\n",
       "    .progress-bar-interrupted, .progress-bar-interrupted::-webkit-progress-bar {\n",
       "        background: #F44336;\n",
       "    }\n",
       "</style>\n"
      ],
      "text/plain": [
       "<IPython.core.display.HTML object>"
      ]
     },
     "metadata": {},
     "output_type": "display_data"
    },
    {
     "data": {
      "text/html": [],
      "text/plain": [
       "<IPython.core.display.HTML object>"
      ]
     },
     "metadata": {},
     "output_type": "display_data"
    },
    {
     "data": {
      "text/plain": [
       "('Castor_canadensis',\n",
       " tensor(3),\n",
       " tensor([7.9373e-06, 7.8704e-05, 2.6030e-04, 9.9913e-01, 4.8686e-04, 8.5241e-06,\n",
       "         5.2863e-06, 2.3881e-05]))"
      ]
     },
     "execution_count": 4,
     "metadata": {},
     "output_type": "execute_result"
    }
   ],
   "source": [
    "# Make a prediction\n",
    "learn_inf.predict('test_images/Castor_canadensis.JPG')"
   ]
  },
  {
   "cell_type": "code",
   "execution_count": 5,
   "id": "6ffb10b3",
   "metadata": {},
   "outputs": [
    {
     "data": {
      "text/plain": [
       "['Actitis_macularius', 'Anas_platyrhynchos', 'Branta_canadensis', 'Castor_canadensis', 'Sylvilagus_floridanus', 'Trachemys_scripta_elegans', 'Turdus_migratorius', 'blank']"
      ]
     },
     "execution_count": 5,
     "metadata": {},
     "output_type": "execute_result"
    }
   ],
   "source": [
    "learn_inf.dls.vocab"
   ]
  },
  {
   "cell_type": "code",
   "execution_count": 6,
   "id": "1bd14c94",
   "metadata": {},
   "outputs": [],
   "source": [
    "#|export\n",
    "species_dict = {\n",
    "    \"Actitis_macularius\": \"Spotted Sandpiper\",\n",
    "    \"Anas_platyrhynchos\": \"Mallard\",\n",
    "    \"Branta_canadensis\": \"Canada Goose\",\n",
    "    \"Castor_canadensis\": \"North American Beaver\",\n",
    "    \"Sylvilagus_floridanus\": \"Eastern Cottontail\",\n",
    "    \"Trachemys_scripta_elegans\": \"Red-eared Slider\",\n",
    "    \"Turdus_migratorius\": \"American Robin\",\n",
    "    \"blank\": \"No Animal Detected\"\n",
    "}"
   ]
  },
  {
   "cell_type": "code",
   "execution_count": 7,
   "id": "e643b5e1",
   "metadata": {},
   "outputs": [],
   "source": [
    "#|export\n",
    "def top_3_preds(image_path):\n",
    "    pred_class, pred_idx, pred_probs = learn_inf.predict(image_path)\n",
    "\n",
    "    # Convert vocab class name to common name\n",
    "    def common_name(name):\n",
    "        return species_dict.get(name, name)\n",
    "\n",
    "    top3 = [\n",
    "        f\"{common_name(learn_inf.dls.vocab[i])}: {float(pred_probs[i]):.4f}\"\n",
    "        for i in pred_probs.argsort(descending=True)[:3]\n",
    "    ]\n",
    "\n",
    "    results = {\n",
    "        \"prediction\": {\n",
    "            \"class\": str(pred_class),\n",
    "            \"common_name\": common_name(str(pred_class)),\n",
    "            \"probability\": round(float(pred_probs[pred_idx]), 4)\n",
    "        },\n",
    "        \"top3\": top3\n",
    "    }\n",
    "\n",
    "    markdown_result = (\n",
    "        f\"### Prediction\\n\"\n",
    "        f\"**Class**: {common_name(str(pred_class))}\\n\"\n",
    "        f\"**Probability**: {float(pred_probs[pred_idx]):.4f}\\n\\n\"\n",
    "        f\"### Top 3 Classes\\n\" + \"\\n\".join([f\"- {x}\" for x in top3])\n",
    "    )\n",
    "\n",
    "    return markdown_result, results"
   ]
  },
  {
   "cell_type": "code",
   "execution_count": 8,
   "id": "761107e7",
   "metadata": {},
   "outputs": [
    {
     "data": {
      "text/html": [
       "\n",
       "<style>\n",
       "    /* Turns off some styling */\n",
       "    progress {\n",
       "        /* gets rid of default border in Firefox and Opera. */\n",
       "        border: none;\n",
       "        /* Needs to be in here for Safari polyfill so background images work as expected. */\n",
       "        background-size: auto;\n",
       "    }\n",
       "    progress:not([value]), progress:not([value])::-webkit-progress-bar {\n",
       "        background: repeating-linear-gradient(45deg, #7e7e7e, #7e7e7e 10px, #5c5c5c 10px, #5c5c5c 20px);\n",
       "    }\n",
       "    .progress-bar-interrupted, .progress-bar-interrupted::-webkit-progress-bar {\n",
       "        background: #F44336;\n",
       "    }\n",
       "</style>\n"
      ],
      "text/plain": [
       "<IPython.core.display.HTML object>"
      ]
     },
     "metadata": {},
     "output_type": "display_data"
    },
    {
     "data": {
      "text/html": [],
      "text/plain": [
       "<IPython.core.display.HTML object>"
      ]
     },
     "metadata": {},
     "output_type": "display_data"
    },
    {
     "name": "stdout",
     "output_type": "stream",
     "text": [
      "### Prediction\n",
      "**Class**: North American Beaver\n",
      "**Probability**: 0.9991\n",
      "\n",
      "### Top 3 Classes\n",
      "- North American Beaver: 0.9991\n",
      "- Eastern Cottontail: 0.0005\n",
      "- Canada Goose: 0.0003\n"
     ]
    },
    {
     "data": {
      "text/plain": [
       "{'prediction': {'class': 'Castor_canadensis',\n",
       "  'common_name': 'North American Beaver',\n",
       "  'probability': 0.9991},\n",
       " 'top3': ['North American Beaver: 0.9991',\n",
       "  'Eastern Cottontail: 0.0005',\n",
       "  'Canada Goose: 0.0003']}"
      ]
     },
     "metadata": {},
     "output_type": "display_data"
    }
   ],
   "source": [
    "md_result, json_result = top_3_preds(\"test_images/Castor_canadensis.jpg\")\n",
    "print(md_result)\n",
    "display(json_result)"
   ]
  },
  {
   "cell_type": "code",
   "execution_count": 9,
   "id": "818676d4",
   "metadata": {},
   "outputs": [
    {
     "name": "stdout",
     "output_type": "stream",
     "text": [
      "* Running on local URL:  http://127.0.0.1:7860\n",
      "* To create a public link, set `share=True` in `launch()`.\n"
     ]
    },
    {
     "data": {
      "text/plain": []
     },
     "execution_count": 9,
     "metadata": {},
     "output_type": "execute_result"
    }
   ],
   "source": [
    "#|export\n",
    "with gr.Blocks() as demo:\n",
    "    gr.Markdown(\"\"\"\n",
    "    ## 🦆🦫 UrbanRivers CameraTrap Classifier 🐇🐢\n",
    "    ✅ Species this model can recognize (~78% confidence): *Spotted Sandpiper , Mallard , Canada Goose , North American Beaver , Eastern Cottontail , Red-eared Slider , American Robin.*\n",
    "    \"\"\")\n",
    "    with gr.Row():\n",
    "        with gr.Column(scale=1):\n",
    "            image_input = gr.Image(type=\"filepath\", image_mode=\"RGB\", width=300, height=200, label=\"Upload Image\")\n",
    "            submit_btn = gr.Button(\"Classify\")\n",
    "\n",
    "        with gr.Column(scale=2):\n",
    "            md_output = gr.Markdown(label=\"Prediction Results\")\n",
    "\n",
    "        with gr.Column(scale=2):\n",
    "            json_output = gr.JSON(label=\"Raw JSON\")\n",
    "\n",
    "    examples = gr.Examples(\n",
    "        examples=[\n",
    "            \"./test_images/Anas_platyrhynchos.jpg\",\n",
    "            \"./test_images/Branta_canadensis.jpg\",\n",
    "            \"./test_images/Castor_canadensis.jpg\",\n",
    "            \"./test_images/Sylvilagus_floridanus.jpg\",\n",
    "            \"./test_images/Trachemys_scripta_elegans.jpg\"\n",
    "            ],\n",
    "        inputs=image_input\n",
    "    )\n",
    "\n",
    "    submit_btn.click(fn=top_3_preds, inputs=image_input, outputs=[md_output, json_output])\n",
    "\n",
    "demo.launch(inline=False)"
   ]
  },
  {
   "cell_type": "markdown",
   "id": "7a479399",
   "metadata": {},
   "source": [
    "#### Export to app"
   ]
  },
  {
   "cell_type": "code",
   "execution_count": null,
   "id": "b09ab2c0",
   "metadata": {},
   "outputs": [
    {
     "name": "stdout",
     "output_type": "stream",
     "text": [
      "Export successful\n"
     ]
    }
   ],
   "source": [
    "import nbdev\n",
    "nbdev.export.nb_export('app.ipynb', \".\")\n",
    "print('Export successful')\n"
   ]
  }
 ],
 "metadata": {
  "kernelspec": {
   "display_name": "spaces",
   "language": "python",
   "name": "python3"
  },
  "language_info": {
   "codemirror_mode": {
    "name": "ipython",
    "version": 3
   },
   "file_extension": ".py",
   "mimetype": "text/x-python",
   "name": "python",
   "nbconvert_exporter": "python",
   "pygments_lexer": "ipython3",
   "version": "3.13.2"
  }
 },
 "nbformat": 4,
 "nbformat_minor": 5
}
