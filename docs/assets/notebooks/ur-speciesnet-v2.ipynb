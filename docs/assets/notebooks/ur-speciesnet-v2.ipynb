{
 "cells": [
  {
   "cell_type": "markdown",
   "id": "549a202f",
   "metadata": {
    "papermill": {
     "duration": 0.004207,
     "end_time": "2025-05-24T20:26:45.807358",
     "exception": false,
     "start_time": "2025-05-24T20:26:45.803151",
     "status": "completed"
    },
    "tags": []
   },
   "source": [
    "# Introduction\n",
    "Urban Rivers is a conservation organization helping to restore the Chicago River.  \n",
    "\n",
    "Part of the project involves tracking changes in biodiversity attributable to the installation of floating wetlands.  \n",
    "Volunteers have placed and maintain motion detection cameras (camera traps) along installations, natural river banks, and the existing metal retaining walls on the water way.\n",
    "\n",
    "These pictures are available on s3 - this code investigates downloading a portion of those images for testing with SpeciesNet.\n",
    "\n",
    "> Removed geofencing, using hashmd5 for image names, full dataset, clean when finished.\n",
    "\n",
    "This workbook was used for detections using Kaggle's GPUs and is linked therein.  \n",
    "https://www.kaggle.com/code/morescope/urbanrivers-speciesnet-hash-clean-full-nogeo/"
   ]
  },
  {
   "cell_type": "markdown",
   "id": "a54a80a1",
   "metadata": {
    "papermill": {
     "duration": 0.003166,
     "end_time": "2025-05-24T20:26:45.814206",
     "exception": false,
     "start_time": "2025-05-24T20:26:45.811040",
     "status": "completed"
    },
    "tags": []
   },
   "source": [
    "## Notebook Setup and Required Packages"
   ]
  },
  {
   "cell_type": "code",
   "execution_count": 1,
   "id": "61206b88",
   "metadata": {
    "execution": {
     "iopub.execute_input": "2025-05-24T20:26:45.821909Z",
     "iopub.status.busy": "2025-05-24T20:26:45.821647Z",
     "iopub.status.idle": "2025-05-24T20:29:04.763376Z",
     "shell.execute_reply": "2025-05-24T20:29:04.762533Z"
    },
    "papermill": {
     "duration": 138.947415,
     "end_time": "2025-05-24T20:29:04.764929",
     "exception": false,
     "start_time": "2025-05-24T20:26:45.817514",
     "status": "completed"
    },
    "tags": []
   },
   "outputs": [
    {
     "name": "stdout",
     "output_type": "stream",
     "text": [
      "\u001b[2K     \u001b[90m━━━━━━━━━━━━━━━━━━━━━━━━━━━━━━━━━━━━━━━━\u001b[0m \u001b[32m43.3/43.3 kB\u001b[0m \u001b[31m3.3 MB/s\u001b[0m eta \u001b[36m0:00:00\u001b[0m\r\n",
      "\u001b[2K     \u001b[90m━━━━━━━━━━━━━━━━━━━━━━━━━━━━━━━━━━━━━━━━\u001b[0m \u001b[32m2.2/2.2 MB\u001b[0m \u001b[31m9.1 MB/s\u001b[0m eta \u001b[36m0:00:00\u001b[0m\r\n",
      "\u001b[?25h  Preparing metadata (setup.py) ... \u001b[?25l\u001b[?25hdone\r\n",
      "  Preparing metadata (setup.py) ... \u001b[?25l\u001b[?25hdone\r\n",
      "\u001b[2K     \u001b[90m━━━━━━━━━━━━━━━━━━━━━━━━━━━━━━━━━━━━━━━━\u001b[0m \u001b[32m87.2/87.2 kB\u001b[0m \u001b[31m7.4 MB/s\u001b[0m eta \u001b[36m0:00:00\u001b[0m\r\n",
      "\u001b[?25h  Preparing metadata (setup.py) ... \u001b[?25l\u001b[?25hdone\r\n",
      "\u001b[2K   \u001b[90m━━━━━━━━━━━━━━━━━━━━━━━━━━━━━━━━━━━━━━━━\u001b[0m \u001b[32m93.7/93.7 kB\u001b[0m \u001b[31m7.1 MB/s\u001b[0m eta \u001b[36m0:00:00\u001b[0m\r\n",
      "\u001b[2K   \u001b[90m━━━━━━━━━━━━━━━━━━━━━━━━━━━━━━━━━━━━━━━━\u001b[0m \u001b[32m791.3/791.3 kB\u001b[0m \u001b[31m42.1 MB/s\u001b[0m eta \u001b[36m0:00:00\u001b[0m\r\n",
      "\u001b[2K   \u001b[90m━━━━━━━━━━━━━━━━━━━━━━━━━━━━━━━━━━━━━━━━\u001b[0m \u001b[32m86.8/86.8 kB\u001b[0m \u001b[31m6.6 MB/s\u001b[0m eta \u001b[36m0:00:00\u001b[0m\r\n",
      "\u001b[2K   \u001b[90m━━━━━━━━━━━━━━━━━━━━━━━━━━━━━━━━━━━━━━━━\u001b[0m \u001b[32m8.6/8.6 MB\u001b[0m \u001b[31m107.5 MB/s\u001b[0m eta \u001b[36m0:00:00\u001b[0m\r\n",
      "\u001b[2K   \u001b[90m━━━━━━━━━━━━━━━━━━━━━━━━━━━━━━━━━━━━━━━━\u001b[0m \u001b[32m13.5/13.5 MB\u001b[0m \u001b[31m109.0 MB/s\u001b[0m eta \u001b[36m0:00:00\u001b[0m\r\n",
      "\u001b[2K   \u001b[90m━━━━━━━━━━━━━━━━━━━━━━━━━━━━━━━━━━━━━━━━\u001b[0m \u001b[32m363.4/363.4 MB\u001b[0m \u001b[31m4.7 MB/s\u001b[0m eta \u001b[36m0:00:00\u001b[0m\r\n",
      "\u001b[2K   \u001b[90m━━━━━━━━━━━━━━━━━━━━━━━━━━━━━━━━━━━━━━━━\u001b[0m \u001b[32m664.8/664.8 MB\u001b[0m \u001b[31m2.6 MB/s\u001b[0m eta \u001b[36m0:00:00\u001b[0m\r\n",
      "\u001b[2K   \u001b[90m━━━━━━━━━━━━━━━━━━━━━━━━━━━━━━━━━━━━━━━━\u001b[0m \u001b[32m211.5/211.5 MB\u001b[0m \u001b[31m8.5 MB/s\u001b[0m eta \u001b[36m0:00:00\u001b[0m\r\n",
      "\u001b[2K   \u001b[90m━━━━━━━━━━━━━━━━━━━━━━━━━━━━━━━━━━━━━━━━\u001b[0m \u001b[32m56.3/56.3 MB\u001b[0m \u001b[31m16.8 MB/s\u001b[0m eta \u001b[36m0:00:00\u001b[0m\r\n",
      "\u001b[2K   \u001b[90m━━━━━━━━━━━━━━━━━━━━━━━━━━━━━━━━━━━━━━━━\u001b[0m \u001b[32m127.9/127.9 MB\u001b[0m \u001b[31m13.7 MB/s\u001b[0m eta \u001b[36m0:00:00\u001b[0m\r\n",
      "\u001b[2K   \u001b[90m━━━━━━━━━━━━━━━━━━━━━━━━━━━━━━━━━━━━━━━━\u001b[0m \u001b[32m207.5/207.5 MB\u001b[0m \u001b[31m8.3 MB/s\u001b[0m eta \u001b[36m0:00:00\u001b[0m\r\n",
      "\u001b[2K   \u001b[90m━━━━━━━━━━━━━━━━━━━━━━━━━━━━━━━━━━━━━━━━\u001b[0m \u001b[32m21.1/21.1 MB\u001b[0m \u001b[31m84.5 MB/s\u001b[0m eta \u001b[36m0:00:00\u001b[0m\r\n",
      "\u001b[2K   \u001b[90m━━━━━━━━━━━━━━━━━━━━━━━━━━━━━━━━━━━━━━━━\u001b[0m \u001b[32m956.3/956.3 kB\u001b[0m \u001b[31m50.8 MB/s\u001b[0m eta \u001b[36m0:00:00\u001b[0m\r\n",
      "\u001b[2K   \u001b[90m━━━━━━━━━━━━━━━━━━━━━━━━━━━━━━━━━━━━━━━━\u001b[0m \u001b[32m81.0/81.0 kB\u001b[0m \u001b[31m6.7 MB/s\u001b[0m eta \u001b[36m0:00:00\u001b[0m\r\n",
      "\u001b[2K   \u001b[90m━━━━━━━━━━━━━━━━━━━━━━━━━━━━━━━━━━━━━━━━\u001b[0m \u001b[32m85.4/85.4 kB\u001b[0m \u001b[31m6.2 MB/s\u001b[0m eta \u001b[36m0:00:00\u001b[0m\r\n",
      "\u001b[2K   \u001b[90m━━━━━━━━━━━━━━━━━━━━━━━━━━━━━━━━━━━━━━━━\u001b[0m \u001b[32m66.8/66.8 kB\u001b[0m \u001b[31m4.9 MB/s\u001b[0m eta \u001b[36m0:00:00\u001b[0m\r\n",
      "\u001b[2K   \u001b[90m━━━━━━━━━━━━━━━━━━━━━━━━━━━━━━━━━━━━━━━━\u001b[0m \u001b[32m49.9/49.9 MB\u001b[0m \u001b[31m18.1 MB/s\u001b[0m eta \u001b[36m0:00:00\u001b[0m\r\n",
      "\u001b[2K   \u001b[90m━━━━━━━━━━━━━━━━━━━━━━━━━━━━━━━━━━━━━━━━\u001b[0m \u001b[32m114.7/114.7 kB\u001b[0m \u001b[31m163.2 kB/s\u001b[0m eta \u001b[36m0:00:00\u001b[0m\r\n",
      "\u001b[2K   \u001b[90m━━━━━━━━━━━━━━━━━━━━━━━━━━━━━━━━━━━━━━━━\u001b[0m \u001b[32m62.5/62.5 MB\u001b[0m \u001b[31m3.2 MB/s\u001b[0m eta \u001b[36m0:00:00\u001b[0m\r\n",
      "\u001b[2K   \u001b[90m━━━━━━━━━━━━━━━━━━━━━━━━━━━━━━━━━━━━━━━━\u001b[0m \u001b[32m7.8/7.8 MB\u001b[0m \u001b[31m100.7 MB/s\u001b[0m eta \u001b[36m0:00:00\u001b[0m\r\n",
      "\u001b[?25h  Building wheel for pyqtree (setup.py) ... \u001b[?25l\u001b[?25hdone\r\n",
      "  Building wheel for reverse_geocoder (setup.py) ... \u001b[?25l\u001b[?25hdone\r\n",
      "  Building wheel for fire (setup.py) ... \u001b[?25l\u001b[?25hdone\r\n",
      "\u001b[31mERROR: pip's dependency resolver does not currently take into account all the packages that are installed. This behaviour is the source of the following dependency conflicts.\r\n",
      "datasets 3.6.0 requires fsspec[http]<=2025.3.0,>=2023.1.0, but you have fsspec 2025.3.2 which is incompatible.\r\n",
      "ydata-profiling 4.16.1 requires matplotlib<=3.10,>=3.5, but you have matplotlib 3.10.3 which is incompatible.\r\n",
      "category-encoders 2.7.0 requires scikit-learn<1.6.0,>=1.0.0, but you have scikit-learn 1.6.1 which is incompatible.\r\n",
      "cesium 0.12.4 requires numpy<3.0,>=2.0, but you have numpy 1.26.4 which is incompatible.\r\n",
      "google-colab 1.0.0 requires google-auth==2.38.0, but you have google-auth 2.40.1 which is incompatible.\r\n",
      "google-colab 1.0.0 requires notebook==6.5.7, but you have notebook 6.5.4 which is incompatible.\r\n",
      "google-colab 1.0.0 requires pandas==2.2.2, but you have pandas 2.2.3 which is incompatible.\r\n",
      "dopamine-rl 4.1.2 requires gymnasium>=1.0.0, but you have gymnasium 0.29.0 which is incompatible.\r\n",
      "bigframes 1.42.0 requires rich<14,>=12.4.4, but you have rich 14.0.0 which is incompatible.\r\n",
      "google-spark-connect 0.5.2 requires google-api-core>=2.19.1, but you have google-api-core 1.34.1 which is incompatible.\r\n",
      "google-cloud-bigtable 2.30.0 requires google-api-core[grpc]<3.0.0,>=2.16.0, but you have google-api-core 1.34.1 which is incompatible.\r\n",
      "google-cloud-storage 2.19.0 requires google-api-core<3.0.0dev,>=2.15.0, but you have google-api-core 1.34.1 which is incompatible.\r\n",
      "pandas-gbq 0.28.0 requires google-api-core<3.0.0dev,>=2.10.2, but you have google-api-core 1.34.1 which is incompatible.\u001b[0m\u001b[31m\r\n",
      "\u001b[0m"
     ]
    }
   ],
   "source": [
    "# Data Handling\n",
    "import pandas as pd\n",
    "import numpy as np\n",
    "\n",
    "# IO - getting files and images from MongoDB and S3\n",
    "from pymongo import MongoClient\n",
    "from kaggle_secrets import UserSecretsClient\n",
    "import requests\n",
    "\n",
    "from concurrent.futures import ThreadPoolExecutor\n",
    "\n",
    "from pathlib import Path\n",
    "from PIL import Image\n",
    "from io import BytesIO\n",
    "\n",
    "import os\n",
    "import re\n",
    "import shutil\n",
    "import json\n",
    "import time\n",
    "\n",
    "# Install speciesnet and related megadetector libraries\n",
    "!pip install -Uqq speciesnet megadetector-utils\n",
    "\n",
    "from IPython.display import display\n",
    "from IPython.display import JSON\n",
    "\n",
    "from speciesnet import SpeciesNet\n",
    "import kagglehub\n",
    "\n"
   ]
  },
  {
   "cell_type": "code",
   "execution_count": 2,
   "id": "ae61bc10",
   "metadata": {
    "execution": {
     "iopub.execute_input": "2025-05-24T20:29:04.813619Z",
     "iopub.status.busy": "2025-05-24T20:29:04.813183Z",
     "iopub.status.idle": "2025-05-24T20:29:21.002377Z",
     "shell.execute_reply": "2025-05-24T20:29:21.001340Z"
    },
    "papermill": {
     "duration": 16.214717,
     "end_time": "2025-05-24T20:29:21.003934",
     "exception": false,
     "start_time": "2025-05-24T20:29:04.789217",
     "status": "completed"
    },
    "tags": []
   },
   "outputs": [
    {
     "name": "stdout",
     "output_type": "stream",
     "text": [
      "*** Running Torch tests ***\r\n",
      "\r\n",
      "Torch version: 2.6.0+cu124\r\n",
      "CUDA available (according to PyTorch): True\r\n",
      "CUDA version (according to PyTorch): 12.4\r\n",
      "CuDNN version (according to PyTorch): 90100\r\n",
      "Found 1 CUDA devices:\r\n",
      "0: Tesla P100-PCIE-16GB\r\n"
     ]
    }
   ],
   "source": [
    "# Run a quick check to see if the GPU is being used\n",
    "!python -m speciesnet.scripts.gpu_test"
   ]
  },
  {
   "cell_type": "code",
   "execution_count": 3,
   "id": "7db63af2",
   "metadata": {
    "execution": {
     "iopub.execute_input": "2025-05-24T20:29:21.052686Z",
     "iopub.status.busy": "2025-05-24T20:29:21.052381Z",
     "iopub.status.idle": "2025-05-24T20:29:21.057081Z",
     "shell.execute_reply": "2025-05-24T20:29:21.056494Z"
    },
    "papermill": {
     "duration": 0.030014,
     "end_time": "2025-05-24T20:29:21.058237",
     "exception": false,
     "start_time": "2025-05-24T20:29:21.028223",
     "status": "completed"
    },
    "tags": []
   },
   "outputs": [],
   "source": [
    "# Configuration for Multithreading and Batching\n",
    "num_batches = 10\n",
    "max_threads = 8\n",
    "output_root = Path(\"output\")\n",
    "\n",
    "# Prepare folders\n",
    "output_root.mkdir(exist_ok=True)\n",
    "images_root = Path(\"images\")\n",
    "images_root.mkdir(exist_ok=True)"
   ]
  },
  {
   "cell_type": "markdown",
   "id": "8015ef08",
   "metadata": {
    "papermill": {
     "duration": 0.022696,
     "end_time": "2025-05-24T20:29:21.104346",
     "exception": false,
     "start_time": "2025-05-24T20:29:21.081650",
     "status": "completed"
    },
    "tags": []
   },
   "source": [
    "## Access The URIs from S3 through MongoDB"
   ]
  },
  {
   "cell_type": "code",
   "execution_count": 4,
   "id": "53981457",
   "metadata": {
    "execution": {
     "iopub.execute_input": "2025-05-24T20:29:21.151533Z",
     "iopub.status.busy": "2025-05-24T20:29:21.151273Z",
     "iopub.status.idle": "2025-05-24T20:29:28.279978Z",
     "shell.execute_reply": "2025-05-24T20:29:28.279136Z"
    },
    "papermill": {
     "duration": 7.153906,
     "end_time": "2025-05-24T20:29:28.281496",
     "exception": false,
     "start_time": "2025-05-24T20:29:21.127590",
     "status": "completed"
    },
    "tags": []
   },
   "outputs": [],
   "source": [
    "# Get the stored mongo uri secret\n",
    "user_secrets = UserSecretsClient()\n",
    "mongo_uri = user_secrets.get_secret(\"MONGO_URI\")\n",
    "\n",
    "# Connect to the MongoDB client\n",
    "client = MongoClient(mongo_uri)\n",
    " \n",
    "# Access the database and collection\n",
    "db = client['test']\n",
    "collection = db['cameratrapmedias'] \n",
    " \n",
    "# Query the collection to retrieve records with image URLs, metadata, and the first index of 'relativePath'\n",
    "data = list(collection.aggregate([\n",
    "    {\n",
    "        '$project': {\n",
    "            '_id': 0,\n",
    "            'publicURL': 1,\n",
    "            'timestamp': 1,\n",
    "            'folderName': { '$arrayElemAt': ['$relativePath', 1] },\n",
    "            'fileName': 1,\n",
    "            'mediaID': 1\n",
    "        }\n",
    "    },\n",
    "    # { '$limit': 150 }\n",
    "]))\n",
    " \n",
    "# Convert the data to a pandas DataFrame for exploration\n",
    "df = pd.DataFrame(data)\n",
    "\n",
    "# Export the small array to a CSV file for preview\n",
    "df.to_csv('ur_test_medias.csv', index=False)"
   ]
  },
  {
   "cell_type": "code",
   "execution_count": 5,
   "id": "8b7c7989",
   "metadata": {
    "execution": {
     "iopub.execute_input": "2025-05-24T20:29:28.329915Z",
     "iopub.status.busy": "2025-05-24T20:29:28.329634Z",
     "iopub.status.idle": "2025-05-24T20:29:28.350595Z",
     "shell.execute_reply": "2025-05-24T20:29:28.350019Z"
    },
    "papermill": {
     "duration": 0.046232,
     "end_time": "2025-05-24T20:29:28.351624",
     "exception": false,
     "start_time": "2025-05-24T20:29:28.305392",
     "status": "completed"
    },
    "tags": []
   },
   "outputs": [
    {
     "data": {
      "text/html": [
       "<div>\n",
       "<style scoped>\n",
       "    .dataframe tbody tr th:only-of-type {\n",
       "        vertical-align: middle;\n",
       "    }\n",
       "\n",
       "    .dataframe tbody tr th {\n",
       "        vertical-align: top;\n",
       "    }\n",
       "\n",
       "    .dataframe thead th {\n",
       "        text-align: right;\n",
       "    }\n",
       "</style>\n",
       "<table border=\"1\" class=\"dataframe\">\n",
       "  <thead>\n",
       "    <tr style=\"text-align: right;\">\n",
       "      <th></th>\n",
       "      <th>mediaID</th>\n",
       "      <th>timestamp</th>\n",
       "      <th>publicURL</th>\n",
       "      <th>fileName</th>\n",
       "      <th>folderName</th>\n",
       "    </tr>\n",
       "  </thead>\n",
       "  <tbody>\n",
       "    <tr>\n",
       "      <th>0</th>\n",
       "      <td>fb04201b6417ea917fdd24e1a7415d8a</td>\n",
       "      <td>2024-01-27 13:33:15</td>\n",
       "      <td>https://urbanriverrangers.s3.amazonaws.com/ima...</td>\n",
       "      <td>SYFW0060.JPG</td>\n",
       "      <td>2024-01-30_prologis_02</td>\n",
       "    </tr>\n",
       "    <tr>\n",
       "      <th>1</th>\n",
       "      <td>c112813a5f3b9cec26f95fad982b8d09</td>\n",
       "      <td>2024-01-24 18:56:50</td>\n",
       "      <td>https://urbanriverrangers.s3.amazonaws.com/ima...</td>\n",
       "      <td>SYFW0001.JPG</td>\n",
       "      <td>2024-01-30_Learnin_platform_camera_test</td>\n",
       "    </tr>\n",
       "    <tr>\n",
       "      <th>2</th>\n",
       "      <td>0647380f2d59692f5b2b642312844e9f</td>\n",
       "      <td>2024-01-24 19:01:54</td>\n",
       "      <td>https://urbanriverrangers.s3.amazonaws.com/ima...</td>\n",
       "      <td>SYFW0002.JPG</td>\n",
       "      <td>2024-01-30_Learnin_platform_camera_test</td>\n",
       "    </tr>\n",
       "    <tr>\n",
       "      <th>3</th>\n",
       "      <td>0db73c6c1efb4968c04a47e418ebeefb</td>\n",
       "      <td>2024-01-24 19:03:05</td>\n",
       "      <td>https://urbanriverrangers.s3.amazonaws.com/ima...</td>\n",
       "      <td>SYFW0004.JPG</td>\n",
       "      <td>2024-01-30_Learnin_platform_camera_test</td>\n",
       "    </tr>\n",
       "    <tr>\n",
       "      <th>4</th>\n",
       "      <td>31fc53de29056b4dd8bc7b1804617f00</td>\n",
       "      <td>2024-01-24 19:04:19</td>\n",
       "      <td>https://urbanriverrangers.s3.amazonaws.com/ima...</td>\n",
       "      <td>SYFW0006.JPG</td>\n",
       "      <td>2024-01-30_Learnin_platform_camera_test</td>\n",
       "    </tr>\n",
       "  </tbody>\n",
       "</table>\n",
       "</div>"
      ],
      "text/plain": [
       "                            mediaID           timestamp  \\\n",
       "0  fb04201b6417ea917fdd24e1a7415d8a 2024-01-27 13:33:15   \n",
       "1  c112813a5f3b9cec26f95fad982b8d09 2024-01-24 18:56:50   \n",
       "2  0647380f2d59692f5b2b642312844e9f 2024-01-24 19:01:54   \n",
       "3  0db73c6c1efb4968c04a47e418ebeefb 2024-01-24 19:03:05   \n",
       "4  31fc53de29056b4dd8bc7b1804617f00 2024-01-24 19:04:19   \n",
       "\n",
       "                                           publicURL      fileName  \\\n",
       "0  https://urbanriverrangers.s3.amazonaws.com/ima...  SYFW0060.JPG   \n",
       "1  https://urbanriverrangers.s3.amazonaws.com/ima...  SYFW0001.JPG   \n",
       "2  https://urbanriverrangers.s3.amazonaws.com/ima...  SYFW0002.JPG   \n",
       "3  https://urbanriverrangers.s3.amazonaws.com/ima...  SYFW0004.JPG   \n",
       "4  https://urbanriverrangers.s3.amazonaws.com/ima...  SYFW0006.JPG   \n",
       "\n",
       "                                folderName  \n",
       "0                   2024-01-30_prologis_02  \n",
       "1  2024-01-30_Learnin_platform_camera_test  \n",
       "2  2024-01-30_Learnin_platform_camera_test  \n",
       "3  2024-01-30_Learnin_platform_camera_test  \n",
       "4  2024-01-30_Learnin_platform_camera_test  "
      ]
     },
     "execution_count": 5,
     "metadata": {},
     "output_type": "execute_result"
    }
   ],
   "source": [
    "# preview df\n",
    "df.head()"
   ]
  },
  {
   "cell_type": "markdown",
   "id": "111ca99a",
   "metadata": {
    "papermill": {
     "duration": 0.090327,
     "end_time": "2025-05-24T20:29:28.474720",
     "exception": false,
     "start_time": "2025-05-24T20:29:28.384393",
     "status": "completed"
    },
    "tags": []
   },
   "source": [
    "## We are going to create a column that creates a file name to save the image"
   ]
  },
  {
   "cell_type": "code",
   "execution_count": 6,
   "id": "c0b8ea33",
   "metadata": {
    "execution": {
     "iopub.execute_input": "2025-05-24T20:29:28.522055Z",
     "iopub.status.busy": "2025-05-24T20:29:28.521774Z",
     "iopub.status.idle": "2025-05-24T20:29:28.806124Z",
     "shell.execute_reply": "2025-05-24T20:29:28.805394Z"
    },
    "papermill": {
     "duration": 0.309512,
     "end_time": "2025-05-24T20:29:28.807319",
     "exception": false,
     "start_time": "2025-05-24T20:29:28.497807",
     "status": "completed"
    },
    "tags": []
   },
   "outputs": [
    {
     "data": {
      "text/html": [
       "<div>\n",
       "<style scoped>\n",
       "    .dataframe tbody tr th:only-of-type {\n",
       "        vertical-align: middle;\n",
       "    }\n",
       "\n",
       "    .dataframe tbody tr th {\n",
       "        vertical-align: top;\n",
       "    }\n",
       "\n",
       "    .dataframe thead th {\n",
       "        text-align: right;\n",
       "    }\n",
       "</style>\n",
       "<table border=\"1\" class=\"dataframe\">\n",
       "  <thead>\n",
       "    <tr style=\"text-align: right;\">\n",
       "      <th></th>\n",
       "      <th>mediaID</th>\n",
       "      <th>timestamp</th>\n",
       "      <th>publicURL</th>\n",
       "      <th>fileName</th>\n",
       "      <th>folderName</th>\n",
       "      <th>imageName</th>\n",
       "    </tr>\n",
       "  </thead>\n",
       "  <tbody>\n",
       "    <tr>\n",
       "      <th>0</th>\n",
       "      <td>fb04201b6417ea917fdd24e1a7415d8a</td>\n",
       "      <td>2024-01-27 13:33:15</td>\n",
       "      <td>https://urbanriverrangers.s3.amazonaws.com/ima...</td>\n",
       "      <td>SYFW0060.JPG</td>\n",
       "      <td>2024-01-30_prologis_02</td>\n",
       "      <td>2024-01-30_prologis_02--SYFW0060.JPG</td>\n",
       "    </tr>\n",
       "    <tr>\n",
       "      <th>1</th>\n",
       "      <td>c112813a5f3b9cec26f95fad982b8d09</td>\n",
       "      <td>2024-01-24 18:56:50</td>\n",
       "      <td>https://urbanriverrangers.s3.amazonaws.com/ima...</td>\n",
       "      <td>SYFW0001.JPG</td>\n",
       "      <td>2024-01-30_Learnin_platform_camera_test</td>\n",
       "      <td>2024-01-30_Learnin_platform_camera_test--SYFW0...</td>\n",
       "    </tr>\n",
       "    <tr>\n",
       "      <th>2</th>\n",
       "      <td>0647380f2d59692f5b2b642312844e9f</td>\n",
       "      <td>2024-01-24 19:01:54</td>\n",
       "      <td>https://urbanriverrangers.s3.amazonaws.com/ima...</td>\n",
       "      <td>SYFW0002.JPG</td>\n",
       "      <td>2024-01-30_Learnin_platform_camera_test</td>\n",
       "      <td>2024-01-30_Learnin_platform_camera_test--SYFW0...</td>\n",
       "    </tr>\n",
       "    <tr>\n",
       "      <th>3</th>\n",
       "      <td>0db73c6c1efb4968c04a47e418ebeefb</td>\n",
       "      <td>2024-01-24 19:03:05</td>\n",
       "      <td>https://urbanriverrangers.s3.amazonaws.com/ima...</td>\n",
       "      <td>SYFW0004.JPG</td>\n",
       "      <td>2024-01-30_Learnin_platform_camera_test</td>\n",
       "      <td>2024-01-30_Learnin_platform_camera_test--SYFW0...</td>\n",
       "    </tr>\n",
       "    <tr>\n",
       "      <th>4</th>\n",
       "      <td>31fc53de29056b4dd8bc7b1804617f00</td>\n",
       "      <td>2024-01-24 19:04:19</td>\n",
       "      <td>https://urbanriverrangers.s3.amazonaws.com/ima...</td>\n",
       "      <td>SYFW0006.JPG</td>\n",
       "      <td>2024-01-30_Learnin_platform_camera_test</td>\n",
       "      <td>2024-01-30_Learnin_platform_camera_test--SYFW0...</td>\n",
       "    </tr>\n",
       "  </tbody>\n",
       "</table>\n",
       "</div>"
      ],
      "text/plain": [
       "                            mediaID           timestamp  \\\n",
       "0  fb04201b6417ea917fdd24e1a7415d8a 2024-01-27 13:33:15   \n",
       "1  c112813a5f3b9cec26f95fad982b8d09 2024-01-24 18:56:50   \n",
       "2  0647380f2d59692f5b2b642312844e9f 2024-01-24 19:01:54   \n",
       "3  0db73c6c1efb4968c04a47e418ebeefb 2024-01-24 19:03:05   \n",
       "4  31fc53de29056b4dd8bc7b1804617f00 2024-01-24 19:04:19   \n",
       "\n",
       "                                           publicURL      fileName  \\\n",
       "0  https://urbanriverrangers.s3.amazonaws.com/ima...  SYFW0060.JPG   \n",
       "1  https://urbanriverrangers.s3.amazonaws.com/ima...  SYFW0001.JPG   \n",
       "2  https://urbanriverrangers.s3.amazonaws.com/ima...  SYFW0002.JPG   \n",
       "3  https://urbanriverrangers.s3.amazonaws.com/ima...  SYFW0004.JPG   \n",
       "4  https://urbanriverrangers.s3.amazonaws.com/ima...  SYFW0006.JPG   \n",
       "\n",
       "                                folderName  \\\n",
       "0                   2024-01-30_prologis_02   \n",
       "1  2024-01-30_Learnin_platform_camera_test   \n",
       "2  2024-01-30_Learnin_platform_camera_test   \n",
       "3  2024-01-30_Learnin_platform_camera_test   \n",
       "4  2024-01-30_Learnin_platform_camera_test   \n",
       "\n",
       "                                           imageName  \n",
       "0               2024-01-30_prologis_02--SYFW0060.JPG  \n",
       "1  2024-01-30_Learnin_platform_camera_test--SYFW0...  \n",
       "2  2024-01-30_Learnin_platform_camera_test--SYFW0...  \n",
       "3  2024-01-30_Learnin_platform_camera_test--SYFW0...  \n",
       "4  2024-01-30_Learnin_platform_camera_test--SYFW0...  "
      ]
     },
     "execution_count": 6,
     "metadata": {},
     "output_type": "execute_result"
    }
   ],
   "source": [
    "# This function will format the final string\n",
    "def make_filename(s):\n",
    "    # s = s.lower()\n",
    "    s = re.sub(r'[^\\w\\s.-]', '', s) # remove special characters except dash or underscore or period\n",
    "    s = re.sub(r'\\s+', '_', s) # replace whitespace with underscore\n",
    "    return s\n",
    "\n",
    "# Combine the relative path second (folder name) + fileName\n",
    "df['imageName'] = df['folderName'] + '--' + df['fileName']\n",
    "df['imageName'] = df['imageName'].apply(make_filename)\n",
    "\n",
    "df.head()"
   ]
  },
  {
   "cell_type": "markdown",
   "id": "17c8899e",
   "metadata": {
    "papermill": {
     "duration": 0.024203,
     "end_time": "2025-05-24T20:29:28.856149",
     "exception": false,
     "start_time": "2025-05-24T20:29:28.831946",
     "status": "completed"
    },
    "tags": []
   },
   "source": [
    "Now that we have a connection to the MongoDB server and access to the URLs, let's use the download images."
   ]
  },
  {
   "cell_type": "markdown",
   "id": "62029382",
   "metadata": {
    "papermill": {
     "duration": 0.023435,
     "end_time": "2025-05-24T20:29:28.903277",
     "exception": false,
     "start_time": "2025-05-24T20:29:28.879842",
     "status": "completed"
    },
    "tags": []
   },
   "source": [
    "## Download Images"
   ]
  },
  {
   "cell_type": "code",
   "execution_count": 7,
   "id": "cfd8289b",
   "metadata": {
    "_kg_hide-output": true,
    "execution": {
     "iopub.execute_input": "2025-05-24T20:29:28.952368Z",
     "iopub.status.busy": "2025-05-24T20:29:28.952002Z",
     "iopub.status.idle": "2025-05-25T03:23:01.605829Z",
     "shell.execute_reply": "2025-05-25T03:23:01.604960Z"
    },
    "papermill": {
     "duration": 24812.7057,
     "end_time": "2025-05-25T03:23:01.632268",
     "exception": false,
     "start_time": "2025-05-24T20:29:28.926568",
     "status": "completed"
    },
    "tags": []
   },
   "outputs": [
    {
     "name": "stderr",
     "output_type": "stream",
     "text": [
      "/usr/local/lib/python3.11/dist-packages/numpy/core/fromnumeric.py:59: FutureWarning: 'DataFrame.swapaxes' is deprecated and will be removed in a future version. Please use 'DataFrame.transpose' instead.\n",
      "  return bound(*args, **kwds)\n"
     ]
    },
    {
     "name": "stdout",
     "output_type": "stream",
     "text": [
      "Processing batch 1 / 10 with 10517 images...\n",
      "failed to process23f3019217b595aea2141e9e1352c58d.jpg: 503 Server Error: Service Unavailable for url: https://urbanriverrangers.s3.amazonaws.com/images/2024/2024-02-01_Bubbly_spypoint_garden/DCIM/100DSCIM/HDPH5311.JPG\n",
      "Batch 1 took 2563.99 seconds.\n",
      "Processing batch 2 / 10 with 10517 images...\n",
      "Batch 2 took 2021.54 seconds.\n",
      "Processing batch 3 / 10 with 10517 images...\n",
      "Batch 3 took 2908.26 seconds.\n",
      "Processing batch 4 / 10 with 10516 images...\n",
      "Batch 4 took 2309.73 seconds.\n",
      "Processing batch 5 / 10 with 10516 images...\n",
      "Batch 5 took 2567.26 seconds.\n",
      "Processing batch 6 / 10 with 10516 images...\n",
      "Batch 6 took 2795.10 seconds.\n",
      "Processing batch 7 / 10 with 10516 images...\n",
      "Batch 7 took 2497.84 seconds.\n",
      "Processing batch 8 / 10 with 10516 images...\n",
      "Batch 8 took 2714.70 seconds.\n",
      "Processing batch 9 / 10 with 10516 images...\n",
      "Batch 9 took 2181.21 seconds.\n",
      "Processing batch 10 / 10 with 10516 images...\n",
      "Batch 10 took 2252.93 seconds.\n",
      "105163 Images Downloaded and Resized\n",
      "CPU times: user 5h 1min 38s, sys: 39min 25s, total: 5h 41min 3s\n",
      "Wall time: 6h 53min 32s\n"
     ]
    }
   ],
   "source": [
    "%%time\n",
    "# Create a directory to save the images\n",
    "output_root.mkdir(exist_ok=True)\n",
    "path = Path('images')\n",
    "path.mkdir(exist_ok=True)\n",
    "\n",
    "# Create a tool for resizing so cropping top and bottom can happen while keeping the aspect ratio\n",
    "def resize_to_height(image, target_height=256):\n",
    "    og_width, og_height = image.size\n",
    "    new_width = int(og_width * (target_height / og_height))\n",
    "    return image.resize((new_width, target_height))\n",
    "\n",
    "# Create a tool for downloading and processing images\n",
    "def process_row(row, dest_folder):\n",
    "    url = row['publicURL']\n",
    "    filename = f\"{row['mediaID']}.jpg\"\n",
    "    # Download the image\n",
    "    dest = dest_folder/filename\n",
    "\n",
    "    try:\n",
    "        # Download image to memory\n",
    "        response = requests.get(url)\n",
    "        response.raise_for_status()\n",
    "\n",
    "        # Open and process the image\n",
    "        image = Image.open(BytesIO(response.content)).convert(\"RGB\")\n",
    "        image = resize_to_height(image, target_height=256)\n",
    "        image.save(dest, format=\"JPEG\", quality=85)\n",
    "        \n",
    "    except Exception as e:\n",
    "        print(f\"failed to process{filename}: {e}\")\n",
    "\n",
    "# Download and display some images where at least an animal was found - ex rat\n",
    "df_test = df[44410:44460] # 50 images with some known animal detections\n",
    "df_big_chunk = df[0:10000] # first 10000 images\n",
    "df_bigger_chunk = df[10001:60001] # second 50k\n",
    "df_remaining = df[60002:] # last bit\n",
    "\n",
    "# Process Batches\n",
    "for batch_idx, df_chunk in enumerate(np.array_split(df, num_batches)): # change to df_test to split a test batch size\n",
    "    batch_folder = images_root / f'batch_{batch_idx}'\n",
    "    batch_folder.mkdir(exist_ok=True)\n",
    "\n",
    "    print(f'Processing batch {batch_idx + 1} / {num_batches} with {len(df_chunk)} images...')\n",
    "\n",
    "    start = time.time()\n",
    "    \n",
    "    with ThreadPoolExecutor(max_workers=max_threads) as executor:\n",
    "        executor.map(lambda row: process_row(row, batch_folder), [row for _, row in df_chunk.iterrows()])\n",
    "\n",
    "    end = time.time()\n",
    "    print(f\"Batch {batch_idx+1} took {end - start:.2f} seconds.\")\n",
    "        \n",
    "print(f'{len(df)} Images Downloaded and Resized')"
   ]
  },
  {
   "cell_type": "code",
   "execution_count": 8,
   "id": "0824d478",
   "metadata": {
    "execution": {
     "iopub.execute_input": "2025-05-25T03:23:01.681550Z",
     "iopub.status.busy": "2025-05-25T03:23:01.681287Z",
     "iopub.status.idle": "2025-05-25T03:23:01.684672Z",
     "shell.execute_reply": "2025-05-25T03:23:01.683975Z"
    },
    "papermill": {
     "duration": 0.029385,
     "end_time": "2025-05-25T03:23:01.685802",
     "exception": false,
     "start_time": "2025-05-25T03:23:01.656417",
     "status": "completed"
    },
    "tags": []
   },
   "outputs": [],
   "source": [
    "# Uncomment and run this if the images need to be redone\n",
    "# !rm images -r\n",
    "# !rm docs.zip\n",
    "# %lsmagic"
   ]
  },
  {
   "cell_type": "markdown",
   "id": "ba225e4d",
   "metadata": {
    "papermill": {
     "duration": 0.023376,
     "end_time": "2025-05-25T03:23:01.733192",
     "exception": false,
     "start_time": "2025-05-25T03:23:01.709816",
     "status": "completed"
    },
    "tags": []
   },
   "source": [
    "## Running Species Net on the Full Dataset\n",
    "Now that we have the max number of images downloaded (19.5GB) let's run speciesnet\n",
    "\n",
    "Note there might be a better way of doing this using bytes downloaded from s3 - but I haven't figured that part out yet.\n",
    "\n",
    "### We're going to try a multithreading chunks approach"
   ]
  },
  {
   "cell_type": "code",
   "execution_count": 9,
   "id": "cb1d94d6",
   "metadata": {
    "execution": {
     "iopub.execute_input": "2025-05-25T03:23:01.781802Z",
     "iopub.status.busy": "2025-05-25T03:23:01.781572Z",
     "iopub.status.idle": "2025-05-25T03:23:01.785974Z",
     "shell.execute_reply": "2025-05-25T03:23:01.785248Z"
    },
    "papermill": {
     "duration": 0.030689,
     "end_time": "2025-05-25T03:23:01.787313",
     "exception": false,
     "start_time": "2025-05-25T03:23:01.756624",
     "status": "completed"
    },
    "tags": []
   },
   "outputs": [],
   "source": [
    "def print_predictions(predictions_dict: dict) -> None:\n",
    "    print(\"Predictions:\")\n",
    "    for prediction in predictions_dict[\"predictions\"][0:1]:\n",
    "        print(prediction[\"filepath\"], \"=>\", prediction[\"prediction\"])"
   ]
  },
  {
   "cell_type": "markdown",
   "id": "cd2c5a7b",
   "metadata": {
    "papermill": {
     "duration": 0.025196,
     "end_time": "2025-05-25T03:23:01.837546",
     "exception": false,
     "start_time": "2025-05-25T03:23:01.812350",
     "status": "completed"
    },
    "tags": []
   },
   "source": [
    "### Download Model"
   ]
  },
  {
   "cell_type": "code",
   "execution_count": 10,
   "id": "d39140c5",
   "metadata": {
    "execution": {
     "iopub.execute_input": "2025-05-25T03:23:01.887162Z",
     "iopub.status.busy": "2025-05-25T03:23:01.886878Z",
     "iopub.status.idle": "2025-05-25T03:23:06.012568Z",
     "shell.execute_reply": "2025-05-25T03:23:06.011725Z"
    },
    "papermill": {
     "duration": 4.151588,
     "end_time": "2025-05-25T03:23:06.013774",
     "exception": false,
     "start_time": "2025-05-25T03:23:01.862186",
     "status": "completed"
    },
    "tags": []
   },
   "outputs": [
    {
     "name": "stdout",
     "output_type": "stream",
     "text": [
      "Model downloaded to temporary folder: /kaggle/input/speciesnet/pytorch/v4.0.1a/1\n",
      "6 files copied to: /content/models\n"
     ]
    }
   ],
   "source": [
    "# Choose the folder we're going to download the model to\n",
    "model_path = '/content/models'\n",
    "os.makedirs(model_path, exist_ok=True)\n",
    "\n",
    "# Download the model (it will go to a folder like /kaggle/input/...)\n",
    "download_path = kagglehub.model_download('google/speciesnet/PyTorch/v4.0.1a',\n",
    "                                          force_download=True)\n",
    "\n",
    "print('Model downloaded to temporary folder: {}'.format(download_path))\n",
    "\n",
    "# List the contents of the downloaded directory to identify the actual files/subdirectories\n",
    "model_files = os.listdir(download_path)\n",
    "\n",
    "# Copy the contents of the model file to our destination folder\n",
    "for item_name in model_files:\n",
    "    source_path = os.path.join(download_path, item_name)\n",
    "    destination_path = os.path.join(model_path, item_name)\n",
    "    if os.path.isfile(source_path):\n",
    "        shutil.copy2(source_path, destination_path)\n",
    "    elif os.path.isdir(source_path):\n",
    "        shutil.copytree(source_path, destination_path, dirs_exist_ok=True)\n",
    "\n",
    "print('{} files copied to: {}'.format(len(model_files),model_path))"
   ]
  },
  {
   "cell_type": "code",
   "execution_count": 11,
   "id": "c183883d",
   "metadata": {
    "execution": {
     "iopub.execute_input": "2025-05-25T03:23:06.064587Z",
     "iopub.status.busy": "2025-05-25T03:23:06.064367Z",
     "iopub.status.idle": "2025-05-25T03:23:15.378700Z",
     "shell.execute_reply": "2025-05-25T03:23:15.377982Z"
    },
    "papermill": {
     "duration": 9.34058,
     "end_time": "2025-05-25T03:23:15.379873",
     "exception": false,
     "start_time": "2025-05-25T03:23:06.039293",
     "status": "completed"
    },
    "tags": []
   },
   "outputs": [
    {
     "name": "stdout",
     "output_type": "stream",
     "text": [
      "Model Loaded\n"
     ]
    }
   ],
   "source": [
    "# Pick the model we want to use (4.0.1a)\n",
    "model = SpeciesNet(model_path)\n",
    "\n",
    "print('Model Loaded')"
   ]
  },
  {
   "cell_type": "code",
   "execution_count": 12,
   "id": "9e94c881",
   "metadata": {
    "execution": {
     "iopub.execute_input": "2025-05-25T03:23:15.428900Z",
     "iopub.status.busy": "2025-05-25T03:23:15.428670Z",
     "iopub.status.idle": "2025-05-25T06:30:25.405675Z",
     "shell.execute_reply": "2025-05-25T06:30:25.404809Z"
    },
    "papermill": {
     "duration": 11230.002759,
     "end_time": "2025-05-25T06:30:25.407025",
     "exception": false,
     "start_time": "2025-05-25T03:23:15.404266",
     "status": "completed"
    },
    "tags": []
   },
   "outputs": [
    {
     "name": "stdout",
     "output_type": "stream",
     "text": [
      "[{'filepath': 'images/batch_0/c89e327383d91bdaadda59e65c57eec8.jpg'}]\n",
      "CPU times: user 36min 8s, sys: 15.5 s, total: 36min 23s\n",
      "Wall time: 17min 35s\n",
      "Predictions:\n",
      "images/batch_0/c89e327383d91bdaadda59e65c57eec8.jpg => f1856211-cfb7-4a5b-9158-c0f72fd09ee6;;;;;;blank\n",
      "predictions_dict_0.json saved to images/batch_0\n",
      "[{'filepath': 'images/batch_1/a09ebf60205fc899468da21db62b9ab2.jpg'}]\n",
      "CPU times: user 35min 23s, sys: 21.5 s, total: 35min 44s\n",
      "Wall time: 17min 21s\n",
      "Predictions:\n",
      "images/batch_1/a09ebf60205fc899468da21db62b9ab2.jpg => f1856211-cfb7-4a5b-9158-c0f72fd09ee6;;;;;;blank\n",
      "predictions_dict_1.json saved to images/batch_1\n",
      "[{'filepath': 'images/batch_2/0808735130905c331d4fde461edae677.jpg'}]\n",
      "CPU times: user 40min 47s, sys: 22.7 s, total: 41min 10s\n",
      "Wall time: 19min 56s\n",
      "Predictions:\n",
      "images/batch_2/0808735130905c331d4fde461edae677.jpg => f1856211-cfb7-4a5b-9158-c0f72fd09ee6;;;;;;blank\n",
      "predictions_dict_2.json saved to images/batch_2\n",
      "[{'filepath': 'images/batch_3/05fe979865464a7deab591234e216cce.jpg'}]\n",
      "CPU times: user 37min 2s, sys: 21.8 s, total: 37min 24s\n",
      "Wall time: 18min 2s\n",
      "Predictions:\n",
      "images/batch_3/05fe979865464a7deab591234e216cce.jpg => f1856211-cfb7-4a5b-9158-c0f72fd09ee6;;;;;;blank\n",
      "predictions_dict_3.json saved to images/batch_3\n",
      "[{'filepath': 'images/batch_4/ba7d7fa46db57412d5b6266977c3d150.jpg'}]\n",
      "CPU times: user 40min 50s, sys: 23 s, total: 41min 13s\n",
      "Wall time: 19min 57s\n",
      "Predictions:\n",
      "images/batch_4/ba7d7fa46db57412d5b6266977c3d150.jpg => b1352069-a39c-4a84-a949-60044271c0c1;aves;;;;;bird\n",
      "predictions_dict_4.json saved to images/batch_4\n",
      "[{'filepath': 'images/batch_5/91876d0caa6c779949f5fc03178ca3bc.jpg'}]\n",
      "CPU times: user 42min 12s, sys: 19.6 s, total: 42min 32s\n",
      "Wall time: 20min 27s\n",
      "Predictions:\n",
      "images/batch_5/91876d0caa6c779949f5fc03178ca3bc.jpg => f1856211-cfb7-4a5b-9158-c0f72fd09ee6;;;;;;blank\n",
      "predictions_dict_5.json saved to images/batch_5\n",
      "[{'filepath': 'images/batch_6/755e554dacb9e7a3065f7ddf0bacee44.jpg'}]\n",
      "CPU times: user 38min, sys: 23.6 s, total: 38min 24s\n",
      "Wall time: 18min 33s\n",
      "Predictions:\n",
      "images/batch_6/755e554dacb9e7a3065f7ddf0bacee44.jpg => f1856211-cfb7-4a5b-9158-c0f72fd09ee6;;;;;;blank\n",
      "predictions_dict_6.json saved to images/batch_6\n",
      "[{'filepath': 'images/batch_7/c1d9861e149921a8a6d5678e7871ff1f.jpg'}]\n",
      "CPU times: user 40min 7s, sys: 16.7 s, total: 40min 24s\n",
      "Wall time: 19min 30s\n",
      "Predictions:\n",
      "images/batch_7/c1d9861e149921a8a6d5678e7871ff1f.jpg => f1856211-cfb7-4a5b-9158-c0f72fd09ee6;;;;;;blank\n",
      "predictions_dict_7.json saved to images/batch_7\n",
      "[{'filepath': 'images/batch_8/75899b821aa01f10169e7a32b302667b.jpg'}]\n",
      "CPU times: user 37min 13s, sys: 17.8 s, total: 37min 31s\n",
      "Wall time: 18min 3s\n",
      "Predictions:\n",
      "images/batch_8/75899b821aa01f10169e7a32b302667b.jpg => 990ae9dd-7a59-4344-afcb-1b7b21368000;mammalia;primates;hominidae;homo;sapiens;human\n",
      "predictions_dict_8.json saved to images/batch_8\n",
      "[{'filepath': 'images/batch_9/14718d070c52d81c2a05c095d5511dcc.jpg'}]\n",
      "CPU times: user 36min 13s, sys: 18.3 s, total: 36min 32s\n",
      "Wall time: 17min 35s\n",
      "Predictions:\n",
      "images/batch_9/14718d070c52d81c2a05c095d5511dcc.jpg => 990ae9dd-7a59-4344-afcb-1b7b21368000;mammalia;primates;hominidae;homo;sapiens;human\n",
      "predictions_dict_9.json saved to images/batch_9\n"
     ]
    }
   ],
   "source": [
    "# Let's format a request string as a list of dicts (aka JSON string format)\n",
    "def create_instances(batch_folder):\n",
    "    image_paths = [f'{batch_folder}/{f}' for f in os.listdir(batch_folder) if f.lower().endswith('.jpg')]\n",
    "\n",
    "    instances = []\n",
    "    for image_path in image_paths:\n",
    "        instances.append({\n",
    "            'filepath': image_path\n",
    "        })\n",
    "\n",
    "    # Check that it's saved correctly by verifying the first\n",
    "    print(instances[0:1])\n",
    "\n",
    "    return instances\n",
    "\n",
    "\n",
    "for batch_index in range(len(os.listdir(images_root))):\n",
    "    instances = create_instances(f'{images_root}/batch_{batch_index}')\n",
    "\n",
    "    # make the predictions and get a sense of how long it would take\n",
    "    %time predictions_dict = model.predict(instances_dict={\"instances\": instances})\n",
    "\n",
    "    print_predictions(predictions_dict) # show the first prediction of each batch\n",
    "\n",
    "    # Save the dict to the batch folder\n",
    "    with open(f'{images_root}/batch_{batch_index}/predictions_dict_{batch_index}.json', 'w') as f:\n",
    "        json.dump(predictions_dict, f, indent=2)\n",
    "\n",
    "    print(f'predictions_dict_{batch_index}.json saved to {images_root}/batch_{batch_index}')"
   ]
  },
  {
   "cell_type": "code",
   "execution_count": 13,
   "id": "a642a2a3",
   "metadata": {
    "execution": {
     "iopub.execute_input": "2025-05-25T06:30:25.458508Z",
     "iopub.status.busy": "2025-05-25T06:30:25.458277Z",
     "iopub.status.idle": "2025-05-25T06:30:34.579960Z",
     "shell.execute_reply": "2025-05-25T06:30:34.579112Z"
    },
    "papermill": {
     "duration": 9.148742,
     "end_time": "2025-05-25T06:30:34.581248",
     "exception": false,
     "start_time": "2025-05-25T06:30:25.432506",
     "status": "completed"
    },
    "tags": []
   },
   "outputs": [
    {
     "name": "stdout",
     "output_type": "stream",
     "text": [
      "Combined 104937 predictions into output/predictions_dict_master.json\n"
     ]
    }
   ],
   "source": [
    "# To concatenate all the json files\n",
    "output_file = output_root / \"predictions_dict_master.json\"\n",
    "\n",
    "# Initialize the master predictions list\n",
    "master_predictions = []\n",
    "\n",
    "# Loop through files matching the pattern\n",
    "for json_file in sorted(images_root.glob(\"batch_*/predictions_dict_*.json\")):\n",
    "    with open(json_file, \"r\") as f:\n",
    "        data = json.load(f)\n",
    "        if \"predictions\" in data:\n",
    "            master_predictions.extend(data[\"predictions\"])  # Concatenate predictions!\n",
    "        else:\n",
    "            print(f\"{json_file} missing 'predictions' key\")\n",
    "\n",
    "# Write the combined predictions to a new file\n",
    "with open(output_file, \"w\") as f:\n",
    "    json.dump({\"predictions\": master_predictions}, f, indent=2)\n",
    "\n",
    "print(f\"Combined {len(master_predictions)} predictions into {output_file}\")\n"
   ]
  },
  {
   "cell_type": "markdown",
   "id": "c225e788",
   "metadata": {
    "papermill": {
     "duration": 0.024743,
     "end_time": "2025-05-25T06:30:34.631533",
     "exception": false,
     "start_time": "2025-05-25T06:30:34.606790",
     "status": "completed"
    },
    "tags": []
   },
   "source": [
    "## Let's save the predictions dict json file"
   ]
  },
  {
   "cell_type": "code",
   "execution_count": 14,
   "id": "29c9e501",
   "metadata": {
    "execution": {
     "iopub.execute_input": "2025-05-25T06:30:34.683119Z",
     "iopub.status.busy": "2025-05-25T06:30:34.682572Z",
     "iopub.status.idle": "2025-05-25T06:31:48.038667Z",
     "shell.execute_reply": "2025-05-25T06:31:48.037884Z"
    },
    "papermill": {
     "duration": 73.383267,
     "end_time": "2025-05-25T06:31:48.040196",
     "exception": false,
     "start_time": "2025-05-25T06:30:34.656929",
     "status": "completed"
    },
    "tags": []
   },
   "outputs": [
    {
     "name": "stdout",
     "output_type": "stream",
     "text": [
      "Loading results from /kaggle/working/output/predictions_dict_master.json\r\n",
      "This appears to be a SpeciesNet output file, converting to MD format\r\n",
      "Writing temporary results to /tmp/megadetector_temp_files/c658fd2c-3931-11f0-8f1e-0242ac130202.json\r\n",
      "Warning: creating fake detection for non-blank whole-image classification\r\n",
      "Warning: creating fake detection for non-blank whole-image classification\r\n",
      "Warning: creating fake detection for non-blank whole-image classification\r\n",
      "Warning: creating fake detection for non-blank whole-image classification\r\n",
      "Warning: creating fake detection for non-blank whole-image classification\r\n",
      "Warning: creating fake detection for non-blank whole-image classification\r\n",
      "Warning: creating fake detection for non-blank whole-image classification\r\n",
      "Warning: creating fake detection for non-blank whole-image classification\r\n",
      "Warning: creating fake detection for non-blank whole-image classification\r\n",
      "Warning: creating fake detection for non-blank whole-image classification\r\n",
      "Warning: creating fake detection for non-blank whole-image classification\r\n",
      "Warning: creating fake detection for non-blank whole-image classification\r\n",
      "Warning: creating fake detection for non-blank whole-image classification\r\n",
      "Warning: creating fake detection for non-blank whole-image classification\r\n",
      "Warning: creating fake detection for non-blank whole-image classification\r\n",
      "Warning: creating fake detection for non-blank whole-image classification\r\n",
      "Warning: creating fake detection for non-blank whole-image classification\r\n",
      "Warning: creating fake detection for non-blank whole-image classification\r\n",
      "Warning: creating fake detection for non-blank whole-image classification\r\n",
      "Warning: creating fake detection for non-blank whole-image classification\r\n",
      "Warning: creating fake detection for non-blank whole-image classification\r\n",
      "Converting results to dataframe\r\n",
      "Finished loading MegaDetector results for 104937 images from /kaggle/working/output/predictions_dict_master.json\r\n",
      "Assigning images to rendering categories\r\n",
      "100%|████████████████████████████████| 104937/104937 [00:03<00:00, 27707.61it/s]\r\n",
      "Finished loading and preprocessing 104937 rows from detector output, predicted 25288 positives.\r\n",
      "100%|███████████████████████████████████████| 2000/2000 [00:25<00:00, 77.01it/s]\r\n",
      "Rendered 2000 images (of 2000) in 25.97 seconds (0.01 seconds per image)\r\n",
      "Generating classification category report\r\n",
      "This appears to be a SpeciesNet output file, converting to MD format\r\n",
      "Writing temporary results to /tmp/megadetector_temp_files/e4a28d20-3931-11f0-8f1e-0242ac130202.json\r\n",
      "Warning: creating fake detection for non-blank whole-image classification\r\n",
      "Warning: creating fake detection for non-blank whole-image classification\r\n",
      "Warning: creating fake detection for non-blank whole-image classification\r\n",
      "Warning: creating fake detection for non-blank whole-image classification\r\n",
      "Warning: creating fake detection for non-blank whole-image classification\r\n",
      "Warning: creating fake detection for non-blank whole-image classification\r\n",
      "Warning: creating fake detection for non-blank whole-image classification\r\n",
      "Warning: creating fake detection for non-blank whole-image classification\r\n",
      "Warning: creating fake detection for non-blank whole-image classification\r\n",
      "Warning: creating fake detection for non-blank whole-image classification\r\n",
      "Warning: creating fake detection for non-blank whole-image classification\r\n",
      "Warning: creating fake detection for non-blank whole-image classification\r\n",
      "Warning: creating fake detection for non-blank whole-image classification\r\n",
      "Warning: creating fake detection for non-blank whole-image classification\r\n",
      "Warning: creating fake detection for non-blank whole-image classification\r\n",
      "Warning: creating fake detection for non-blank whole-image classification\r\n",
      "Warning: creating fake detection for non-blank whole-image classification\r\n",
      "Warning: creating fake detection for non-blank whole-image classification\r\n",
      "Warning: creating fake detection for non-blank whole-image classification\r\n",
      "Warning: creating fake detection for non-blank whole-image classification\r\n",
      "Warning: creating fake detection for non-blank whole-image classification\r\n",
      "Finished writing html to /kaggle/working/output/docs/index.html\r\n"
     ]
    }
   ],
   "source": [
    "# Create a docs folder for previewing the images\n",
    "output_path = '/kaggle/working/output/docs'\n",
    "os.makedirs(output_path, exist_ok=True)\n",
    "\n",
    "# change n to sample to -1 for all\n",
    "!python -m megadetector.postprocessing.postprocess_batch_results /kaggle/working/output/predictions_dict_master.json /kaggle/working/output/docs --num_images_to_sample 2000 --confidence_threshold 0.5"
   ]
  },
  {
   "cell_type": "markdown",
   "id": "795b5487",
   "metadata": {
    "papermill": {
     "duration": 0.036451,
     "end_time": "2025-05-25T06:31:48.114658",
     "exception": false,
     "start_time": "2025-05-25T06:31:48.078207",
     "status": "completed"
    },
    "tags": []
   },
   "source": [
    "## Let's zip the folder so we can easily download it"
   ]
  },
  {
   "cell_type": "code",
   "execution_count": 15,
   "id": "f61fa193",
   "metadata": {
    "execution": {
     "iopub.execute_input": "2025-05-25T06:31:48.189032Z",
     "iopub.status.busy": "2025-05-25T06:31:48.188336Z",
     "iopub.status.idle": "2025-05-25T06:31:52.984662Z",
     "shell.execute_reply": "2025-05-25T06:31:52.984091Z"
    },
    "papermill": {
     "duration": 4.835146,
     "end_time": "2025-05-25T06:31:52.986001",
     "exception": false,
     "start_time": "2025-05-25T06:31:48.150855",
     "status": "completed"
    },
    "tags": []
   },
   "outputs": [],
   "source": [
    "shutil.make_archive('/kaggle/working/output/docs', 'zip', '/kaggle/working/output/docs')\n",
    "\n",
    "# and finally clean up the tree that made it this far\n",
    "shutil.rmtree('/kaggle/working/output/docs')  # Deletes the folder\n"
   ]
  },
  {
   "cell_type": "code",
   "execution_count": 16,
   "id": "204bbb90",
   "metadata": {
    "execution": {
     "iopub.execute_input": "2025-05-25T06:31:53.077747Z",
     "iopub.status.busy": "2025-05-25T06:31:53.077476Z",
     "iopub.status.idle": "2025-05-25T06:31:56.508948Z",
     "shell.execute_reply": "2025-05-25T06:31:56.508120Z"
    },
    "papermill": {
     "duration": 3.487216,
     "end_time": "2025-05-25T06:31:56.510344",
     "exception": false,
     "start_time": "2025-05-25T06:31:53.023128",
     "status": "completed"
    },
    "tags": []
   },
   "outputs": [
    {
     "name": "stdout",
     "output_type": "stream",
     "text": [
      "Files cleaned up\n"
     ]
    }
   ],
   "source": [
    "# Remove the image directories because nobody needs to store them at the end here\n",
    "shutil.rmtree('/kaggle/working/images')\n",
    "\n",
    "print(\"Files cleaned up\")"
   ]
  }
 ],
 "metadata": {
  "kaggle": {
   "accelerator": "gpu",
   "dataSources": [
    {
     "modelId": 247762,
     "modelInstanceId": 291118,
     "sourceId": 348614,
     "sourceType": "modelInstanceVersion"
    }
   ],
   "isGpuEnabled": true,
   "isInternetEnabled": true,
   "language": "python",
   "sourceType": "notebook"
  },
  "kernelspec": {
   "display_name": "Python 3",
   "language": "python",
   "name": "python3"
  },
  "language_info": {
   "codemirror_mode": {
    "name": "ipython",
    "version": 3
   },
   "file_extension": ".py",
   "mimetype": "text/x-python",
   "name": "python",
   "nbconvert_exporter": "python",
   "pygments_lexer": "ipython3",
   "version": "3.11.11"
  },
  "papermill": {
   "default_parameters": {},
   "duration": 36317.740013,
   "end_time": "2025-05-25T06:31:59.391235",
   "environment_variables": {},
   "exception": null,
   "input_path": "__notebook__.ipynb",
   "output_path": "__notebook__.ipynb",
   "parameters": {},
   "start_time": "2025-05-24T20:26:41.651222",
   "version": "2.6.0"
  }
 },
 "nbformat": 4,
 "nbformat_minor": 5
}
